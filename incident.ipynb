{
 "cells": [
  {
   "cell_type": "code",
   "execution_count": 1,
   "id": "b835645b",
   "metadata": {},
   "outputs": [
    {
     "data": {
      "text/html": [
       "<div>\n",
       "<style scoped>\n",
       "    .dataframe tbody tr th:only-of-type {\n",
       "        vertical-align: middle;\n",
       "    }\n",
       "\n",
       "    .dataframe tbody tr th {\n",
       "        vertical-align: top;\n",
       "    }\n",
       "\n",
       "    .dataframe thead th {\n",
       "        text-align: right;\n",
       "    }\n",
       "</style>\n",
       "<table border=\"1\" class=\"dataframe\">\n",
       "  <thead>\n",
       "    <tr style=\"text-align: right;\">\n",
       "      <th></th>\n",
       "      <th>number</th>\n",
       "      <th>incident_state</th>\n",
       "      <th>active</th>\n",
       "      <th>reassignment_count</th>\n",
       "      <th>reopen_count</th>\n",
       "      <th>sys_mod_count</th>\n",
       "      <th>made_sla</th>\n",
       "      <th>caller_id</th>\n",
       "      <th>opened_by</th>\n",
       "      <th>opened_at</th>\n",
       "      <th>...</th>\n",
       "      <th>u_priority_confirmation</th>\n",
       "      <th>notify</th>\n",
       "      <th>problem_id</th>\n",
       "      <th>rfc</th>\n",
       "      <th>vendor</th>\n",
       "      <th>caused_by</th>\n",
       "      <th>closed_code</th>\n",
       "      <th>resolved_by</th>\n",
       "      <th>resolved_at</th>\n",
       "      <th>closed_at</th>\n",
       "    </tr>\n",
       "  </thead>\n",
       "  <tbody>\n",
       "    <tr>\n",
       "      <th>0</th>\n",
       "      <td>INC0000045</td>\n",
       "      <td>New</td>\n",
       "      <td>True</td>\n",
       "      <td>0</td>\n",
       "      <td>0</td>\n",
       "      <td>0</td>\n",
       "      <td>True</td>\n",
       "      <td>Caller 2403</td>\n",
       "      <td>Opened by  8</td>\n",
       "      <td>29/2/2016 01:16</td>\n",
       "      <td>...</td>\n",
       "      <td>False</td>\n",
       "      <td>Do Not Notify</td>\n",
       "      <td>?</td>\n",
       "      <td>?</td>\n",
       "      <td>?</td>\n",
       "      <td>?</td>\n",
       "      <td>code 5</td>\n",
       "      <td>Resolved by 149</td>\n",
       "      <td>29/2/2016 11:29</td>\n",
       "      <td>5/3/2016 12:00</td>\n",
       "    </tr>\n",
       "    <tr>\n",
       "      <th>1</th>\n",
       "      <td>INC0000045</td>\n",
       "      <td>Resolved</td>\n",
       "      <td>True</td>\n",
       "      <td>0</td>\n",
       "      <td>0</td>\n",
       "      <td>2</td>\n",
       "      <td>True</td>\n",
       "      <td>Caller 2403</td>\n",
       "      <td>Opened by  8</td>\n",
       "      <td>29/2/2016 01:16</td>\n",
       "      <td>...</td>\n",
       "      <td>False</td>\n",
       "      <td>Do Not Notify</td>\n",
       "      <td>?</td>\n",
       "      <td>?</td>\n",
       "      <td>?</td>\n",
       "      <td>?</td>\n",
       "      <td>code 5</td>\n",
       "      <td>Resolved by 149</td>\n",
       "      <td>29/2/2016 11:29</td>\n",
       "      <td>5/3/2016 12:00</td>\n",
       "    </tr>\n",
       "    <tr>\n",
       "      <th>2</th>\n",
       "      <td>INC0000045</td>\n",
       "      <td>Resolved</td>\n",
       "      <td>True</td>\n",
       "      <td>0</td>\n",
       "      <td>0</td>\n",
       "      <td>3</td>\n",
       "      <td>True</td>\n",
       "      <td>Caller 2403</td>\n",
       "      <td>Opened by  8</td>\n",
       "      <td>29/2/2016 01:16</td>\n",
       "      <td>...</td>\n",
       "      <td>False</td>\n",
       "      <td>Do Not Notify</td>\n",
       "      <td>?</td>\n",
       "      <td>?</td>\n",
       "      <td>?</td>\n",
       "      <td>?</td>\n",
       "      <td>code 5</td>\n",
       "      <td>Resolved by 149</td>\n",
       "      <td>29/2/2016 11:29</td>\n",
       "      <td>5/3/2016 12:00</td>\n",
       "    </tr>\n",
       "    <tr>\n",
       "      <th>3</th>\n",
       "      <td>INC0000045</td>\n",
       "      <td>Closed</td>\n",
       "      <td>False</td>\n",
       "      <td>0</td>\n",
       "      <td>0</td>\n",
       "      <td>4</td>\n",
       "      <td>True</td>\n",
       "      <td>Caller 2403</td>\n",
       "      <td>Opened by  8</td>\n",
       "      <td>29/2/2016 01:16</td>\n",
       "      <td>...</td>\n",
       "      <td>False</td>\n",
       "      <td>Do Not Notify</td>\n",
       "      <td>?</td>\n",
       "      <td>?</td>\n",
       "      <td>?</td>\n",
       "      <td>?</td>\n",
       "      <td>code 5</td>\n",
       "      <td>Resolved by 149</td>\n",
       "      <td>29/2/2016 11:29</td>\n",
       "      <td>5/3/2016 12:00</td>\n",
       "    </tr>\n",
       "    <tr>\n",
       "      <th>4</th>\n",
       "      <td>INC0000047</td>\n",
       "      <td>New</td>\n",
       "      <td>True</td>\n",
       "      <td>0</td>\n",
       "      <td>0</td>\n",
       "      <td>0</td>\n",
       "      <td>True</td>\n",
       "      <td>Caller 2403</td>\n",
       "      <td>Opened by  397</td>\n",
       "      <td>29/2/2016 04:40</td>\n",
       "      <td>...</td>\n",
       "      <td>False</td>\n",
       "      <td>Do Not Notify</td>\n",
       "      <td>?</td>\n",
       "      <td>?</td>\n",
       "      <td>?</td>\n",
       "      <td>?</td>\n",
       "      <td>code 5</td>\n",
       "      <td>Resolved by 81</td>\n",
       "      <td>1/3/2016 09:52</td>\n",
       "      <td>6/3/2016 10:00</td>\n",
       "    </tr>\n",
       "  </tbody>\n",
       "</table>\n",
       "<p>5 rows × 36 columns</p>\n",
       "</div>"
      ],
      "text/plain": [
       "       number incident_state  active  reassignment_count  reopen_count  \\\n",
       "0  INC0000045            New    True                   0             0   \n",
       "1  INC0000045       Resolved    True                   0             0   \n",
       "2  INC0000045       Resolved    True                   0             0   \n",
       "3  INC0000045         Closed   False                   0             0   \n",
       "4  INC0000047            New    True                   0             0   \n",
       "\n",
       "   sys_mod_count  made_sla    caller_id       opened_by        opened_at  ...  \\\n",
       "0              0      True  Caller 2403    Opened by  8  29/2/2016 01:16  ...   \n",
       "1              2      True  Caller 2403    Opened by  8  29/2/2016 01:16  ...   \n",
       "2              3      True  Caller 2403    Opened by  8  29/2/2016 01:16  ...   \n",
       "3              4      True  Caller 2403    Opened by  8  29/2/2016 01:16  ...   \n",
       "4              0      True  Caller 2403  Opened by  397  29/2/2016 04:40  ...   \n",
       "\n",
       "  u_priority_confirmation         notify problem_id rfc vendor caused_by  \\\n",
       "0                   False  Do Not Notify          ?   ?      ?         ?   \n",
       "1                   False  Do Not Notify          ?   ?      ?         ?   \n",
       "2                   False  Do Not Notify          ?   ?      ?         ?   \n",
       "3                   False  Do Not Notify          ?   ?      ?         ?   \n",
       "4                   False  Do Not Notify          ?   ?      ?         ?   \n",
       "\n",
       "  closed_code      resolved_by      resolved_at       closed_at  \n",
       "0      code 5  Resolved by 149  29/2/2016 11:29  5/3/2016 12:00  \n",
       "1      code 5  Resolved by 149  29/2/2016 11:29  5/3/2016 12:00  \n",
       "2      code 5  Resolved by 149  29/2/2016 11:29  5/3/2016 12:00  \n",
       "3      code 5  Resolved by 149  29/2/2016 11:29  5/3/2016 12:00  \n",
       "4      code 5   Resolved by 81   1/3/2016 09:52  6/3/2016 10:00  \n",
       "\n",
       "[5 rows x 36 columns]"
      ]
     },
     "execution_count": 1,
     "metadata": {},
     "output_type": "execute_result"
    }
   ],
   "source": [
    "import pandas as pd\n",
    "\n",
    "df=pd.read_csv('incident_event_log.csv')\n",
    "df.head()"
   ]
  },
  {
   "cell_type": "code",
   "execution_count": 2,
   "id": "6670040a",
   "metadata": {},
   "outputs": [
    {
     "name": "stdout",
     "output_type": "stream",
     "text": [
      "(141712, 36)\n",
      "columns:  Index(['number', 'incident_state', 'active', 'reassignment_count',\n",
      "       'reopen_count', 'sys_mod_count', 'made_sla', 'caller_id', 'opened_by',\n",
      "       'opened_at', 'sys_created_by', 'sys_created_at', 'sys_updated_by',\n",
      "       'sys_updated_at', 'contact_type', 'location', 'category', 'subcategory',\n",
      "       'u_symptom', 'cmdb_ci', 'impact', 'urgency', 'priority',\n",
      "       'assignment_group', 'assigned_to', 'knowledge',\n",
      "       'u_priority_confirmation', 'notify', 'problem_id', 'rfc', 'vendor',\n",
      "       'caused_by', 'closed_code', 'resolved_by', 'resolved_at', 'closed_at'],\n",
      "      dtype='object')\n"
     ]
    }
   ],
   "source": [
    "# Information about the dataset\n",
    "print(df.shape)\n",
    "print(\"columns: \",df.columns)"
   ]
  },
  {
   "cell_type": "code",
   "execution_count": 3,
   "id": "f0cee18f",
   "metadata": {},
   "outputs": [
    {
     "data": {
      "text/plain": [
       "priority\n",
       "3 - Moderate    132452\n",
       "4 - Low           4030\n",
       "2 - High          2972\n",
       "1 - Critical      2258\n",
       "Name: count, dtype: int64"
      ]
     },
     "execution_count": 3,
     "metadata": {},
     "output_type": "execute_result"
    }
   ],
   "source": [
    "# priorite prediction\n",
    "# (1=high,2=medium,3=low)\n",
    "\n",
    "df['priority'].value_counts(dropna=False)"
   ]
  },
  {
   "cell_type": "code",
   "execution_count": 4,
   "id": "987b4b14",
   "metadata": {},
   "outputs": [],
   "source": [
    "# selecting only relevant columns\n",
    "df_filtered=df[[\"incident_state\",\"impact\",\"urgency\",\"priority\",\"contact_type\",\"category\",\"subcategory\",\"opened_at\",\"resolved_at\"]].copy()\n",
    "\n",
    "\n",
    "# drop rows with missing priority if any\n",
    "df_filtered.dropna(subset=['priority'], inplace=True)\n",
    "\n",
    "# convert priority into readable labels\n",
    "\n",
    "priority_map = {\n",
    "    '1 - Critical': 'High',\n",
    "    '2 - High': 'High',\n",
    "    '3 - Moderate': 'Medium',\n",
    "    '4 - Low': 'Low'\n",
    "}\n",
    "df_filtered['priority_label']=df_filtered['priority'].map(priority_map)\n",
    "\n"
   ]
  },
  {
   "cell_type": "markdown",
   "id": "4f845019",
   "metadata": {},
   "source": [
    "Synthesize incident_text\n",
    "\n",
    "Since this dataset doesn't have textual descriptions, we’ll generate synthetic ones based on categorical fields — this enables NLP modeling.\n",
    "\n",
    "This allows us to apply text vectorization (TF-IDF) later\n",
    "Real-world projects often need synthetic augmentation"
   ]
  },
  {
   "cell_type": "code",
   "execution_count": 5,
   "id": "887a2777",
   "metadata": {},
   "outputs": [],
   "source": [
    "def generate_incident_text(row):\n",
    "    return f\"A {row['category']} - {row['subcategory']} issue was reported via {row['contact_type']} with {row['impact']} impact and {row['urgency']} urgency.\"\n",
    "\n",
    "df_filtered['incident_text'] = df_filtered.apply(generate_incident_text, axis=1)\n"
   ]
  },
  {
   "cell_type": "code",
   "execution_count": 6,
   "id": "567050bc",
   "metadata": {},
   "outputs": [
    {
     "name": "stdout",
     "output_type": "stream",
     "text": [
      "                                       incident_text priority_label\n",
      "0  A Category 55 - Subcategory 170 issue was repo...         Medium\n",
      "1  A Category 55 - Subcategory 170 issue was repo...         Medium\n",
      "2  A Category 55 - Subcategory 170 issue was repo...         Medium\n",
      "3  A Category 55 - Subcategory 170 issue was repo...         Medium\n",
      "4  A Category 40 - Subcategory 215 issue was repo...         Medium\n",
      "Final dataset shape: (141712, 11)\n"
     ]
    }
   ],
   "source": [
    "print(df_filtered[['incident_text', 'priority_label']].head())\n",
    "print(\"Final dataset shape:\", df_filtered.shape)\n"
   ]
  },
  {
   "cell_type": "markdown",
   "id": "f447f547",
   "metadata": {},
   "source": [
    "Phase-1 Output\n",
    "\n",
    "| Item             | Description                           |\n",
    "| ---------------- | ------------------------------------- |\n",
    "| `df_filtered`    | Cleaned dataset with key features     |\n",
    "| `priority_label` | Our target variable (High/Medium/Low) |\n",
    "| `incident_text`  | Synthesized field for NLP             |\n",
    "| Missing values   | Handled                               |\n",
    "| Class imbalance  | Observed in `value_counts()`          |\n"
   ]
  },
  {
   "cell_type": "markdown",
   "id": "59d2072d",
   "metadata": {},
   "source": []
  },
  {
   "cell_type": "markdown",
   "id": "748f1b91",
   "metadata": {},
   "source": [
    "EDA"
   ]
  },
  {
   "cell_type": "code",
   "execution_count": 7,
   "id": "3b484e99",
   "metadata": {},
   "outputs": [
    {
     "name": "stderr",
     "output_type": "stream",
     "text": [
      "C:\\Users\\rahul\\AppData\\Local\\Temp\\ipykernel_18388\\2936675443.py:7: FutureWarning: \n",
      "\n",
      "Passing `palette` without assigning `hue` is deprecated and will be removed in v0.14.0. Assign the `x` variable to `hue` and set `legend=False` for the same effect.\n",
      "\n",
      "  sns.countplot(data=df, x='priority', palette='viridis',\n"
     ]
    },
    {
     "data": {
      "image/png": "[encoded data removed]",
      "text/plain": [
       "<Figure size 800x400 with 1 Axes>"
      ]
     },
     "metadata": {},
     "output_type": "display_data"
    }
   ],
   "source": [
    "# visualization\n",
    "\n",
    "import matplotlib.pyplot as plt\n",
    "import seaborn as sns\n",
    "\n",
    "plt.figure(figsize=(8, 4))\n",
    "sns.countplot(data=df, x='priority', palette='viridis',\n",
    "order=['1 - Critical', '2 - High', '3 - Moderate', '4 - Low'])\n",
    "plt.title(\"Original ServiceNow Priority Distribution\")\n",
    "plt.xlabel(\"Original Priority\")\n",
    "plt.ylabel(\"Count\")\n",
    "plt.show()\n"
   ]
  },
  {
   "cell_type": "code",
   "execution_count": 8,
   "id": "ba3b11f4",
   "metadata": {},
   "outputs": [],
   "source": [
    "# Cleaning text for NLP\n",
    "\n",
    "import re\n",
    "\n",
    "def generate_incident_text(row):\n",
    "    return f\"A {row['category']} - {row['subcategory']} issue was reported via {row['contact_type']} with {row['impact']} impact and {row['urgency']} urgency.\"\n",
    "\n",
    "df['incident_text'] = df.apply(generate_incident_text, axis=1)\n",
    "\n",
    "\n",
    "def clean_text(text):\n",
    "    text=text.lower()\n",
    "    text=re.sub(r\"[^a-zA-Z0-9\\s]\",\"\",text) # removes punctuation\n",
    "    text=re.sub(r\"\\s+\",\" \",text).strip() #normalize whitespace\n",
    "    return text\n",
    "\n",
    "df['cleaned_text']=df['incident_text'].apply(clean_text)"
   ]
  },
  {
   "cell_type": "code",
   "execution_count": 9,
   "id": "96a4d859",
   "metadata": {},
   "outputs": [
    {
     "name": "stdout",
     "output_type": "stream",
     "text": [
      "Top 10 most common words in incident text: \n",
      "2: 268513\n",
      "medium: 268429\n",
      "a: 141712\n",
      "issue: 141712\n",
      "was: 141712\n",
      "reported: 141712\n",
      "via: 141712\n",
      "with: 141712\n",
      "impact: 141712\n",
      "and: 141712\n"
     ]
    }
   ],
   "source": [
    "# most common words in incident text\n",
    "\n",
    "from collections import Counter\n",
    "\n",
    "# Tokenize all words\n",
    "all_words=\" \".join(df['cleaned_text']).split()\n",
    "common_words=Counter(all_words).most_common(10)\n",
    "\n",
    "# top 10\n",
    "print(\"Top 10 most common words in incident text: \")\n",
    "for word, count in common_words:\n",
    "    print(f\"{word}: {count}\")"
   ]
  },
  {
   "cell_type": "code",
   "execution_count": 10,
   "id": "facd76fa",
   "metadata": {},
   "outputs": [
    {
     "name": "stdout",
     "output_type": "stream",
     "text": [
      "                                             cleaned_text priority_label\n",
      "22893   a category 46 subcategory 150 issue was report...         Medium\n",
      "26308   a category 26 subcategory 175 issue was report...         Medium\n",
      "39290   a category 19 subcategory 163 issue was report...           High\n",
      "138306  a category 26 subcategory 175 issue was report...         Medium\n",
      "107856  a category 32 subcategory 9 issue was reported...         Medium\n"
     ]
    }
   ],
   "source": [
    "priority_map = {\n",
    "    '1 - Critical': 'High',\n",
    "    '2 - High': 'High',\n",
    "    '3 - Moderate': 'Medium',\n",
    "    '4 - Low': 'Low'\n",
    "}\n",
    "\n",
    "df['priority_label'] = df['priority'].map(priority_map)\n",
    "\n",
    "print(df[['cleaned_text', 'priority_label']].sample(5))"
   ]
  },
  {
   "cell_type": "code",
   "execution_count": 11,
   "id": "1fffbe22",
   "metadata": {},
   "outputs": [
    {
     "name": "stdout",
     "output_type": "stream",
     "text": [
      "Index(['number', 'incident_state', 'active', 'reassignment_count',\n",
      "       'reopen_count', 'sys_mod_count', 'made_sla', 'caller_id', 'opened_by',\n",
      "       'opened_at', 'sys_created_by', 'sys_created_at', 'sys_updated_by',\n",
      "       'sys_updated_at', 'contact_type', 'location', 'category', 'subcategory',\n",
      "       'u_symptom', 'cmdb_ci', 'impact', 'urgency', 'priority',\n",
      "       'assignment_group', 'assigned_to', 'knowledge',\n",
      "       'u_priority_confirmation', 'notify', 'problem_id', 'rfc', 'vendor',\n",
      "       'caused_by', 'closed_code', 'resolved_by', 'resolved_at', 'closed_at',\n",
      "       'incident_text', 'cleaned_text', 'priority_label'],\n",
      "      dtype='object')\n"
     ]
    }
   ],
   "source": [
    "print(df.columns)\n"
   ]
  },
  {
   "cell_type": "markdown",
   "id": "ce01b035",
   "metadata": {},
   "source": [
    "Phase-2 Output\n",
    "\n",
    "| Output                | Description                          |\n",
    "| --------------------- | ------------------------------------ |\n",
    "| `priority_label`      | Clean labels (High, Medium, Low)     |\n",
    "| `incident_text`       | Synthesized from categorical columns |\n",
    "| `cleaned_text`        | Preprocessed version for NLP         |\n",
    "| `priority_label` plot | Visual check for class imbalance     |\n"
   ]
  },
  {
   "cell_type": "code",
   "execution_count": null,
   "id": "d000c724",
   "metadata": {},
   "outputs": [],
   "source": []
  },
  {
   "cell_type": "markdown",
   "id": "df2fb551",
   "metadata": {},
   "source": [
    "Feature Engineering and Vectorization"
   ]
  },
  {
   "cell_type": "code",
   "execution_count": 12,
   "id": "43130c18",
   "metadata": {},
   "outputs": [
    {
     "name": "stdout",
     "output_type": "stream",
     "text": [
      "Label Mapping:  {'High': np.int64(0), 'Low': np.int64(1), 'Medium': np.int64(2)}\n"
     ]
    }
   ],
   "source": [
    "# encoding the target variable\n",
    "\n",
    "from sklearn.preprocessing import LabelEncoder\n",
    "\n",
    "# encode the labels (high=0, medium=1, low=2, or similar)\n",
    "le=LabelEncoder()\n",
    "df['priority_encoded']=le.fit_transform(df['priority_label'])\n",
    "\n",
    "# class mapping\n",
    "label_mapping=dict(zip(le.classes_,le.transform(le.classes_)))\n",
    "print(\"Label Mapping: \",label_mapping)"
   ]
  },
  {
   "cell_type": "markdown",
   "id": "9a6df2ab",
   "metadata": {},
   "source": [
    "Machine learning models can’t work directly with text labels like \"High\" or \"Email\" — they need numerical input.\n",
    "\n",
    "One-hot encoding is the most common way to handle this: it converts each category into a binary (0/1) vector."
   ]
  },
  {
   "cell_type": "code",
   "execution_count": 13,
   "id": "1cb387d4",
   "metadata": {},
   "outputs": [
    {
     "name": "stdout",
     "output_type": "stream",
     "text": [
      "Structured Feature Shape: (141712, 328)\n"
     ]
    }
   ],
   "source": [
    "# One-Hot encode \n",
    "# we'll encode columns like impact, urgency, contact_type\n",
    "\n",
    "structured_cols=['impact','urgency','contact_type','incident_state','category','subcategory']\n",
    "\n",
    "# apply one-hot encoding using pd.get_dummies()\n",
    "df_structured=pd.get_dummies(df[structured_cols], drop_first=True)\n",
    "\n",
    "# get_dummies() --> Transforms each categorical column into multiple binary (0/1) columns — one for each category.\n",
    "\n",
    "print(\"Structured Feature Shape:\", df_structured.shape)\n",
    "\n",
    "\n"
   ]
  },
  {
   "cell_type": "code",
   "execution_count": 14,
   "id": "30794209",
   "metadata": {},
   "outputs": [
    {
     "name": "stdout",
     "output_type": "stream",
     "text": [
      "TF-IDF Shape:  (141712, 276)\n"
     ]
    }
   ],
   "source": [
    "# using TF-IDF Vectorization for cleaned text\n",
    "# converts clean text into numerical\n",
    "\n",
    "from sklearn.feature_extraction.text import TfidfVectorizer\n",
    "\n",
    "tfidf=TfidfVectorizer(max_features=1000,stop_words='english')\n",
    "\n",
    "X_test=tfidf.fit_transform(df['cleaned_text'])\n",
    "print(\"TF-IDF Shape: \",X_test.shape)"
   ]
  },
  {
   "cell_type": "code",
   "execution_count": null,
   "id": "890b46b6",
   "metadata": {},
   "outputs": [
    {
     "name": "stdout",
     "output_type": "stream",
     "text": [
      "Structured Feature Shape: (141712, 328)\n"
     ]
    }
   ],
   "source": [
    "from scipy.sparse import hstack\n",
    "\n",
    "# X_text=TF-IDF matrix\n",
    "# df_structured = one-hot encoded dataframe\n",
    "X_final=hstack([X_test,df_structured])\n",
    "print(\"Structured Feature Shape:\", df_structured.shape)\n",
    "\n",
    "# final target variable\n",
    "y_final=df['priority_encoded']"
   ]
  },
  {
   "cell_type": "markdown",
   "id": "c0dcbcdc",
   "metadata": {},
   "source": [
    "Phase-3 Summary\n",
    "\n",
    "| Step                      | Description                          |\n",
    "| ------------------------- | ------------------------------------ |\n",
    "| Select structured columns | Categorical, non-text columns        |\n",
    "| Use `pd.get_dummies()`    | Convert them into binary 0/1 columns |\n",
    "| Use `drop_first=True`     | Avoid dummy variable trap            |\n",
    "| Combine later with TF-IDF | For full feature matrix              |\n"
   ]
  },
  {
   "cell_type": "code",
   "execution_count": null,
   "id": "fb2d61d3",
   "metadata": {},
   "outputs": [],
   "source": []
  },
  {
   "cell_type": "code",
   "execution_count": 16,
   "id": "3d147bee",
   "metadata": {},
   "outputs": [
    {
     "name": "stdout",
     "output_type": "stream",
     "text": [
      "Train Shape:  (113369, 604)\n",
      "Test Shape:  (28343, 604)\n"
     ]
    }
   ],
   "source": [
    "# train test split\n",
    "\n",
    "from sklearn.model_selection import train_test_split\n",
    "\n",
    "X_train,X_test,y_train,y_test=train_test_split(X_final,y_final,test_size=0.2,random_state=42, stratify=y_final)\n",
    "\n",
    "print(\"Train Shape: \", X_train.shape)\n",
    "print(\"Test Shape: \", X_test.shape)"
   ]
  },
  {
   "cell_type": "code",
   "execution_count": 17,
   "id": "6e5d1e14",
   "metadata": {},
   "outputs": [
    {
     "name": "stdout",
     "output_type": "stream",
     "text": [
      "Logistic Regression:  [2 2 2 ... 2 2 2]\n"
     ]
    }
   ],
   "source": [
    "# train \n",
    "from sklearn.linear_model import LogisticRegression\n",
    "\n",
    "lr=LogisticRegression(max_iter=1000)\n",
    "lr.fit(X_train,y_train)\n",
    "\n",
    "y_pred_lr=lr.predict(X_test)\n",
    "print(\"Logistic Regression: \",y_pred_lr)"
   ]
  },
  {
   "cell_type": "code",
   "execution_count": 18,
   "id": "a302eed4",
   "metadata": {},
   "outputs": [],
   "source": [
    "# Random Forest\n",
    "\n",
    "from sklearn.ensemble import RandomForestClassifier\n",
    "\n",
    "rf=RandomForestClassifier(n_estimators=100, random_state=42)\n",
    "rf.fit(X_train,y_train)\n",
    "\n",
    "y_pred_rf= rf.predict(X_test)\n"
   ]
  },
  {
   "cell_type": "code",
   "execution_count": 19,
   "id": "02eb8c73",
   "metadata": {},
   "outputs": [
    {
     "name": "stdout",
     "output_type": "stream",
     "text": [
      "\n",
      "Evaluation for Logistic Regression\n",
      "Accuracy:  0.9998588716790742\n",
      "Classification Report for Logistic Regression: \n",
      "\n",
      "               precision    recall  f1-score   support\n",
      "\n",
      "        High       1.00      1.00      1.00      1046\n",
      "         Low       1.00      1.00      1.00       806\n",
      "      Medium       1.00      1.00      1.00     26491\n",
      "\n",
      "    accuracy                           1.00     28343\n",
      "   macro avg       1.00      1.00      1.00     28343\n",
      "weighted avg       1.00      1.00      1.00     28343\n",
      "\n",
      "Confusion Matrix for Logistic Regression: \n",
      "\n",
      " [[ 1046     0     0]\n",
      " [    0   806     0]\n",
      " [    2     2 26487]]\n",
      "\n",
      "Evaluation for Random Forest\n",
      "Accuracy:  1.0\n",
      "Classification Report for Random Forest: \n",
      "\n",
      "               precision    recall  f1-score   support\n",
      "\n",
      "        High       1.00      1.00      1.00      1046\n",
      "         Low       1.00      1.00      1.00       806\n",
      "      Medium       1.00      1.00      1.00     26491\n",
      "\n",
      "    accuracy                           1.00     28343\n",
      "   macro avg       1.00      1.00      1.00     28343\n",
      "weighted avg       1.00      1.00      1.00     28343\n",
      "\n",
      "Confusion Matrix for Random Forest: \n",
      "\n",
      " [[ 1046     0     0]\n",
      " [    0   806     0]\n",
      " [    0     0 26491]]\n"
     ]
    }
   ],
   "source": [
    "# evaluation\n",
    "\n",
    "from sklearn.metrics import classification_report, confusion_matrix, accuracy_score\n",
    "\n",
    "def evaluate_model(name, y_test, y_pred):\n",
    "    print(f\"\\nEvaluation for {name}\")\n",
    "    print(\"Accuracy: \",accuracy_score(y_test,y_pred))\n",
    "    print(f\"Classification Report for {name}: \\n\\n\",classification_report(y_test,y_pred,target_names=le.classes_))\n",
    "    print(f\"Confusion Matrix for {name}: \\n\\n\",confusion_matrix(y_test,y_pred))\n",
    "    \n",
    "# evaluate each model\n",
    "evaluate_model(\"Logistic Regression\",y_test,y_pred_lr)\n",
    "evaluate_model(\"Random Forest\",y_test,y_pred_rf)"
   ]
  },
  {
   "cell_type": "code",
   "execution_count": 20,
   "id": "799dbc97",
   "metadata": {},
   "outputs": [
    {
     "data": {
      "image/png": "[encoded data removed]",
      "text/plain": [
       "<Figure size 640x480 with 2 Axes>"
      ]
     },
     "metadata": {},
     "output_type": "display_data"
    }
   ],
   "source": [
    "import seaborn as asns\n",
    "import matplotlib.pyplot as plt\n",
    "from sklearn.metrics import ConfusionMatrixDisplay\n",
    "\n",
    "# plot confusion matrix\n",
    "ConfusionMatrixDisplay.from_estimator(\n",
    "    lr,X_test,y_test,display_labels=le.classes_,cmap='Blues',values_format='d'\n",
    ")\n",
    "plt.title(\"Logistic Regression Confusion Matrix: \")\n",
    "plt.show()"
   ]
  },
  {
   "cell_type": "markdown",
   "id": "bd19985c",
   "metadata": {},
   "source": [
    "Summary of Phase-4\n",
    "\n",
    "| Output                   | Description                             |\n",
    "| ------------------------ | --------------------------------------- |\n",
    "| `y_pred_lr`, `y_pred_rf` | Predictions from models                 |\n",
    "| `classification_report`  | Detailed precision, recall, F1          |\n",
    "| `confusion_matrix`       | Visual insight into misclassifications  |\n",
    "| Best Model Selected      | Ready for Phase 5: API or Streamlit app |\n"
   ]
  },
  {
   "cell_type": "code",
   "execution_count": 24,
   "id": "74cb35c2",
   "metadata": {},
   "outputs": [
    {
     "data": {
      "text/plain": [
       "['models/feature_length.pkl']"
      ]
     },
     "execution_count": 24,
     "metadata": {},
     "output_type": "execute_result"
    }
   ],
   "source": [
    "# saving the models\n",
    "\n",
    "import joblib\n",
    "\n",
    "joblib.dump(lr,'models/model.pkl')\n",
    "joblib.dump(rf,'models/random_forest.pkl')\n",
    "joblib.dump(tfidf,'models/vectorizer.pkl')\n",
    "joblib.dump(le,'models/encoder.pkl')\n",
    "\n",
    "# ✅ NEW: Save structured column names (for prediction time alignment)\n",
    "joblib.dump(df_structured.columns.tolist(), \"models/structured_columns.pkl\")\n",
    "\n",
    "# ✅ NEW: Save final number of features (TF-IDF + structured)\n",
    "joblib.dump(X_train.shape[1], \"models/feature_length.pkl\")"
   ]
  },
  {
   "cell_type": "code",
   "execution_count": null,
   "id": "4e05c8dc",
   "metadata": {},
   "outputs": [],
   "source": []
  },
  {
   "cell_type": "code",
   "execution_count": null,
   "id": "18c1e12d",
   "metadata": {},
   "outputs": [],
   "source": []
  },
  {
   "cell_type": "code",
   "execution_count": null,
   "id": "fe05ec16",
   "metadata": {},
   "outputs": [],
   "source": []
  },
  {
   "cell_type": "code",
   "execution_count": null,
   "id": "35d398d5",
   "metadata": {},
   "outputs": [],
   "source": []
  },
  {
   "cell_type": "code",
   "execution_count": null,
   "id": "3621d1f7",
   "metadata": {},
   "outputs": [],
   "source": []
  },
  {
   "cell_type": "code",
   "execution_count": null,
   "id": "f4ac1e52",
   "metadata": {},
   "outputs": [],
   "source": []
  },
  {
   "cell_type": "code",
   "execution_count": null,
   "id": "9423c3de",
   "metadata": {},
   "outputs": [],
   "source": []
  },
  {
   "cell_type": "code",
   "execution_count": null,
   "id": "2b5bf915",
   "metadata": {},
   "outputs": [],
   "source": []
  },
  {
   "cell_type": "code",
   "execution_count": null,
   "id": "7156a8a4",
   "metadata": {},
   "outputs": [],
   "source": []
  },
  {
   "cell_type": "code",
   "execution_count": null,
   "id": "678737c7",
   "metadata": {},
   "outputs": [],
   "source": []
  },
  {
   "cell_type": "code",
   "execution_count": null,
   "id": "9682582f",
   "metadata": {},
   "outputs": [],
   "source": []
  },
  {
   "cell_type": "code",
   "execution_count": null,
   "id": "7ddc42f1",
   "metadata": {},
   "outputs": [],
   "source": []
  },
  {
   "cell_type": "code",
   "execution_count": null,
   "id": "e78d9034",
   "metadata": {},
   "outputs": [],
   "source": []
  },
  {
   "cell_type": "code",
   "execution_count": null,
   "id": "a31e772f",
   "metadata": {},
   "outputs": [],
   "source": []
  },
  {
   "cell_type": "code",
   "execution_count": null,
   "id": "1eb48875",
   "metadata": {},
   "outputs": [],
   "source": []
  },
  {
   "cell_type": "code",
   "execution_count": null,
   "id": "3eedd542",
   "metadata": {},
   "outputs": [],
   "source": []
  },
  {
   "cell_type": "code",
   "execution_count": null,
   "id": "07851c0b",
   "metadata": {},
   "outputs": [],
   "source": []
  },
  {
   "cell_type": "code",
   "execution_count": null,
   "id": "00f602b0",
   "metadata": {},
   "outputs": [],
   "source": []
  },
  {
   "cell_type": "code",
   "execution_count": null,
   "id": "25137864",
   "metadata": {},
   "outputs": [],
   "source": []
  },
  {
   "cell_type": "code",
   "execution_count": null,
   "id": "f43b2c49",
   "metadata": {},
   "outputs": [],
   "source": []
  },
  {
   "cell_type": "code",
   "execution_count": null,
   "id": "5ddb0205",
   "metadata": {},
   "outputs": [],
   "source": []
  },
  {
   "cell_type": "code",
   "execution_count": null,
   "id": "6af19539",
   "metadata": {},
   "outputs": [],
   "source": []
  },
  {
   "cell_type": "code",
   "execution_count": null,
   "id": "805509e8",
   "metadata": {},
   "outputs": [],
   "source": []
  },
  {
   "cell_type": "code",
   "execution_count": null,
   "id": "3ae04100",
   "metadata": {},
   "outputs": [],
   "source": []
  },
  {
   "cell_type": "code",
   "execution_count": null,
   "id": "532ac702",
   "metadata": {},
   "outputs": [],
   "source": []
  },
  {
   "cell_type": "code",
   "execution_count": null,
   "id": "f7bf8ae2",
   "metadata": {},
   "outputs": [],
   "source": []
  }
 ],
 "metadata": {
  "kernelspec": {
   "display_name": "Python 3",
   "language": "python",
   "name": "python3"
  },
  "language_info": {
   "codemirror_mode": {
    "name": "ipython",
    "version": 3
   },
   "file_extension": ".py",
   "mimetype": "text/x-python",
   "name": "python",
   "nbconvert_exporter": "python",
   "pygments_lexer": "ipython3",
   "version": "3.13.4"
  }
 },
 "nbformat": 4,
 "nbformat_minor": 5
}
